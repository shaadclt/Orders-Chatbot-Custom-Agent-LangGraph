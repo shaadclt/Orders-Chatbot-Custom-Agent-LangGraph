{
  "cells": [
    {
      "cell_type": "markdown",
      "id": "77de7f4d-4d68-4359-a54d-9b554c96833d",
      "metadata": {
        "id": "77de7f4d-4d68-4359-a54d-9b554c96833d"
      },
      "source": [
        "## Setup Models"
      ]
    },
    {
      "cell_type": "code",
      "source": [
        "!pip install langchain_groq langchain_community -q"
      ],
      "metadata": {
        "id": "BWxN0Pe6p8Eo"
      },
      "id": "BWxN0Pe6p8Eo",
      "execution_count": 1,
      "outputs": []
    },
    {
      "cell_type": "code",
      "execution_count": 2,
      "id": "3e819230-ef2c-45d0-96a5-0d9b7bcfba86",
      "metadata": {
        "id": "3e819230-ef2c-45d0-96a5-0d9b7bcfba86"
      },
      "outputs": [],
      "source": [
        "from langchain_groq import ChatGroq\n",
        "import os\n",
        "from google.colab import userdata\n",
        "\n",
        "# Setup Groq API key\n",
        "os.environ[\"GROQ_API_KEY\"] = userdata.get(\"GROQ_API_KEY\")\n",
        "\n",
        "# Setup the LLM using Groq\n",
        "model = ChatGroq(\n",
        "    model_name=\"llama3-70b-8192\",  # Llama 3 70B model via Groq\n",
        "    temperature=0.7\n",
        ")"
      ]
    },
    {
      "cell_type": "markdown",
      "id": "44cc19a8-909e-4812-8625-9f91e86e95af",
      "metadata": {
        "id": "44cc19a8-909e-4812-8625-9f91e86e95af"
      },
      "source": [
        "## 04.03. Setup tools for custom Agent"
      ]
    },
    {
      "cell_type": "code",
      "execution_count": 3,
      "id": "ffac048d-b578-42b9-a420-f03b03dc0aa9",
      "metadata": {
        "colab": {
          "base_uri": "https://localhost:8080/"
        },
        "id": "ffac048d-b578-42b9-a420-f03b03dc0aa9",
        "outputId": "58371386-dedc-4806-e5b1-97d574ca9163"
      },
      "outputs": [
        {
          "output_type": "stream",
          "name": "stdout",
          "text": [
            "   Order ID Product Ordered  Quantity Ordered Delivery Date\n",
            "0  ORD-8276   SpectraBook S                 3    2024-10-16\n",
            "1  ORD-6948    OmegaPro G17                 3    2024-10-25\n",
            "2  ORD-7311   NanoEdge Flex                 2    2024-10-19\n",
            "3  ORD-4633    OmegaPro G17                 2    2024-10-15\n",
            "4  ORD-2050      GammaAir X                 2    2024-10-26\n"
          ]
        }
      ],
      "source": [
        "import pandas as pd\n",
        "\n",
        "#Load the laptop product orders CSV into a Pandas dataframe.\n",
        "product_orders_df = pd.read_csv(\"Laptop Orders.csv\")\n",
        "print(product_orders_df)"
      ]
    },
    {
      "cell_type": "code",
      "execution_count": 4,
      "id": "a6caa5ac-ae0c-495e-bc0a-f0846f22f6b9",
      "metadata": {
        "id": "a6caa5ac-ae0c-495e-bc0a-f0846f22f6b9"
      },
      "outputs": [],
      "source": [
        "from langchain_core.tools import tool\n",
        "\n",
        "@tool\n",
        "def get_order_details(order_id:str) -> str :\n",
        "    \"\"\"\n",
        "    This function returns details about a laptop order, given an order ID\n",
        "    It performs an exact match between the input order id and available order ids\n",
        "    If a match is found, it returns products (laptops) ordered, quantity ordered and delivery date.\n",
        "    If there is NO match found, it returns -1\n",
        "    \"\"\"\n",
        "    #Filter Dataframe for order ID\n",
        "    match_order_df = product_orders_df[\n",
        "                        product_orders_df[\"Order ID\"] == order_id ]\n",
        "\n",
        "    #Check if a record was found, if not return -1\n",
        "    if len(match_order_df) == 0 :\n",
        "        return -1\n",
        "    else:\n",
        "        return match_order_df.iloc[0].to_dict()\n",
        "\n",
        "#Test the tool. Before running the test, comment the @tool annotation\n",
        "#print(get_order_details(\"ORD-6948\"))\n",
        "#print(get_order_details(\"ORD-9999\"))\n",
        "\n",
        "@tool\n",
        "def update_quantity(order_id:str, new_quantity:int) -> bool :\n",
        "    \"\"\"\n",
        "    This function updates the quantity of products ( laptops ) ordered for a given order Id.\n",
        "    It there are no matching orders, it returns False.\n",
        "    \"\"\"\n",
        "    #Find if matching record exists\n",
        "    match_order_df = product_orders_df[\n",
        "                        product_orders_df[\"Order ID\"] == order_id ]\n",
        "\n",
        "    #Check if a record was found, if not return -1\n",
        "    if len(match_order_df) == 0 :\n",
        "        return -1\n",
        "    else:\n",
        "        product_orders_df.loc[\n",
        "            product_orders_df[\"Order ID\"] == order_id,\n",
        "                \"Quantity Ordered\"] = new_quantity\n",
        "        return True\n",
        "\n",
        "#Test the tool. Before running the test, comment the @tool annotation\n",
        "#print(get_order_details(\"ORD-6948\"))\n",
        "#print(update_quantity(\"ORD-6948\", 1))\n",
        "#print(get_order_details(\"ORD-6948\"))\n",
        "#print(update_quantity(\"ORD-9999\",2))\n",
        "#print(product_orders_df)"
      ]
    },
    {
      "cell_type": "markdown",
      "id": "21b881f2-b747-4cb2-87bc-bc6745e539bc",
      "metadata": {
        "id": "21b881f2-b747-4cb2-87bc-bc6745e539bc"
      },
      "source": [
        "## 04.04. Setup the Custom Orders Agent"
      ]
    },
    {
      "cell_type": "code",
      "source": [
        "!pip install langgraph -q"
      ],
      "metadata": {
        "colab": {
          "base_uri": "https://localhost:8080/"
        },
        "id": "2Zc05ajjqNsg",
        "outputId": "c8c9aeee-c2df-458d-ecf4-9631c16353e9"
      },
      "id": "2Zc05ajjqNsg",
      "execution_count": 5,
      "outputs": [
        {
          "output_type": "stream",
          "name": "stdout",
          "text": [
            "\u001b[2K     \u001b[90m━━━━━━━━━━━━━━━━━━━━━━━━━━━━━━━━━━━━━━━━\u001b[0m \u001b[32m43.5/43.5 kB\u001b[0m \u001b[31m2.7 MB/s\u001b[0m eta \u001b[36m0:00:00\u001b[0m\n",
            "\u001b[2K   \u001b[90m━━━━━━━━━━━━━━━━━━━━━━━━━━━━━━━━━━━━━━━━\u001b[0m \u001b[32m148.2/148.2 kB\u001b[0m \u001b[31m5.6 MB/s\u001b[0m eta \u001b[36m0:00:00\u001b[0m\n",
            "\u001b[2K   \u001b[90m━━━━━━━━━━━━━━━━━━━━━━━━━━━━━━━━━━━━━━━━\u001b[0m \u001b[32m42.0/42.0 kB\u001b[0m \u001b[31m2.2 MB/s\u001b[0m eta \u001b[36m0:00:00\u001b[0m\n",
            "\u001b[2K   \u001b[90m━━━━━━━━━━━━━━━━━━━━━━━━━━━━━━━━━━━━━━━━\u001b[0m \u001b[32m47.3/47.3 kB\u001b[0m \u001b[31m1.0 MB/s\u001b[0m eta \u001b[36m0:00:00\u001b[0m\n",
            "\u001b[2K   \u001b[90m━━━━━━━━━━━━━━━━━━━━━━━━━━━━━━━━━━━━━━━━\u001b[0m \u001b[32m194.8/194.8 kB\u001b[0m \u001b[31m6.0 MB/s\u001b[0m eta \u001b[36m0:00:00\u001b[0m\n",
            "\u001b[2K   \u001b[90m━━━━━━━━━━━━━━━━━━━━━━━━━━━━━━━━━━━━━━━━\u001b[0m \u001b[32m223.6/223.6 kB\u001b[0m \u001b[31m13.4 MB/s\u001b[0m eta \u001b[36m0:00:00\u001b[0m\n",
            "\u001b[?25h"
          ]
        }
      ]
    },
    {
      "cell_type": "code",
      "execution_count": 6,
      "id": "a14d7334-8b93-4e9a-8995-1a369038823e",
      "metadata": {
        "colab": {
          "base_uri": "https://localhost:8080/",
          "height": 290
        },
        "id": "a14d7334-8b93-4e9a-8995-1a369038823e",
        "outputId": "4c1795fd-e1fa-419a-c553-79974b1cfd26"
      },
      "outputs": [
        {
          "output_type": "execute_result",
          "data": {
            "image/png": "[encoded data removed]",
            "text/plain": [
              "<IPython.core.display.Image object>"
            ]
          },
          "metadata": {},
          "execution_count": 6
        }
      ],
      "source": [
        "from langgraph.graph import StateGraph, END\n",
        "from langgraph.checkpoint.memory import MemorySaver\n",
        "from typing import TypedDict, Annotated\n",
        "import operator\n",
        "from langchain_core.messages import AnyMessage, SystemMessage, HumanMessage, ToolMessage\n",
        "from IPython.display import Image\n",
        "import json\n",
        "\n",
        "#An Agent State class that keep state of the agent while it answers a query\n",
        "class OrdersAgentState(TypedDict):\n",
        "    messages: Annotated[list[AnyMessage], operator.add]\n",
        "\n",
        "#-----------------------------------------------------------------------------\n",
        "#An agent class that manages all agentic interactions\n",
        "class OrdersAgent:\n",
        "\n",
        "    #Setup the agent graph, tools and memory\n",
        "    def __init__(self, model, tools, system_prompt, debug):\n",
        "\n",
        "        self.system_prompt=system_prompt\n",
        "        self.debug=debug\n",
        "\n",
        "        #Setup the graph for the agent manually\n",
        "        agent_graph=StateGraph(OrdersAgentState)\n",
        "        agent_graph.add_node(\"orders_llm\",self.call_llm)\n",
        "        agent_graph.add_node(\"orders_tools\",self.call_tools)\n",
        "        agent_graph.add_conditional_edges(\n",
        "            \"orders_llm\",\n",
        "            self.is_tool_call,\n",
        "            {True: \"orders_tools\", False: END }\n",
        "        )\n",
        "        agent_graph.add_edge(\"orders_tools\",\"orders_llm\")\n",
        "        #Set where there graph starts\n",
        "        agent_graph.set_entry_point(\"orders_llm\")\n",
        "\n",
        "        #Add chat memory\n",
        "        self.memory=MemorySaver()\n",
        "        #compile the graph\n",
        "        self.agent_graph = agent_graph.compile(checkpointer=self.memory)\n",
        "\n",
        "        #Setup tools\n",
        "        self.tools = { tool.name : tool for tool in tools }\n",
        "        if self.debug:\n",
        "            print(\"\\nTools loaded :\", self.tools)\n",
        "\n",
        "        #attach tools to model\n",
        "        self.model=model.bind_tools(tools)\n",
        "\n",
        "\n",
        "    #Call the LLM with the messages to get next action/result\n",
        "    def call_llm(self, state:OrdersAgentState):\n",
        "\n",
        "        messages=state[\"messages\"]\n",
        "\n",
        "        #If system prompt exists, add to messages in the front\n",
        "        if self.system_prompt:\n",
        "            messages = [SystemMessage(content=self.system_prompt)] + messages\n",
        "\n",
        "        #invoke the model with the message history\n",
        "        result = self.model.invoke(messages)\n",
        "        if self.debug:\n",
        "            print(f\"\\nLLM Returned : {result}\")\n",
        "        #Return the LLM output\n",
        "        return { \"messages\":[result] }\n",
        "\n",
        "\n",
        "    #Check if the next action is a tool call.\n",
        "    def is_tool_call(self, state:OrdersAgentState):\n",
        "        last_message = state[\"messages\"][-1]\n",
        "        #print(\"Last result from LLM : \", last_message)\n",
        "        #If tool action is requested\n",
        "        if len(last_message.tool_calls) > 0 :\n",
        "            return True\n",
        "        else:\n",
        "            return False\n",
        "\n",
        "    #Execute the tool requested with the given parameters\n",
        "    def call_tools(self, state:OrdersAgentState):\n",
        "        #Get last message\n",
        "        tool_calls = state[\"messages\"][-1].tool_calls\n",
        "        results=[]\n",
        "\n",
        "        #Multiple tool calls may be requested. Execute one by one\n",
        "        for tool in tool_calls:\n",
        "            #Handle tool missing error\n",
        "            if not tool[\"name\"] in self.tools:\n",
        "                print(f\"Unknown tool name {tool}\")\n",
        "                result = \"Invalid tool found. Please retry\"\n",
        "            else:\n",
        "                #Call the tool and collect results\n",
        "                result=self.tools[tool[\"name\"]].invoke(tool[\"args\"])\n",
        "\n",
        "            #append results to the list of tool results\n",
        "            results.append(ToolMessage(tool_call_id=tool['id'],\n",
        "                                       name=tool['name'],\n",
        "                                       content=str(result)))\n",
        "\n",
        "            if self.debug:\n",
        "                print(f\"\\nTools returned {results}\")\n",
        "            #return tool results\n",
        "            return { \"messages\" : results }\n",
        "\n",
        "#-----------------------------------------------------------------------------\n",
        "#Setup the custom agent\n",
        "\n",
        "#Note that this is a string, since the model init only accepts a string.\n",
        "system_prompt = \"\"\"\n",
        "    You are professional chatbot that manages orders for laptops sold by our company.\n",
        "    The tools allow for retrieving order details as well as update order quantity.\n",
        "    Do NOT reveal information about other orders than the one requested.\n",
        "    You will handle small talk and greetings by producing professional responses.\n",
        "    \"\"\"\n",
        "\n",
        "#Create the custom orders agent\n",
        "orders_agent = OrdersAgent(model,\n",
        "                           [get_order_details, update_quantity],\n",
        "                           system_prompt,\n",
        "                           debug=False)\n",
        "\n",
        "#Visualize the Agent\n",
        "Image(orders_agent.agent_graph.get_graph().draw_mermaid_png())\n",
        ""
      ]
    },
    {
      "cell_type": "markdown",
      "id": "7078fbcb-3a0c-4553-b4ac-95bd19048e11",
      "metadata": {
        "id": "7078fbcb-3a0c-4553-b4ac-95bd19048e11"
      },
      "source": [
        "## 04.05 Setup and execute the Orders Chatbot"
      ]
    },
    {
      "cell_type": "code",
      "execution_count": 7,
      "id": "c422b70e-f9ac-4810-85b0-9824af315739",
      "metadata": {
        "colab": {
          "base_uri": "https://localhost:8080/"
        },
        "id": "c422b70e-f9ac-4810-85b0-9824af315739",
        "outputId": "3e1425fa-7503-494c-b48e-1cce60205bf9"
      },
      "outputs": [
        {
          "output_type": "stream",
          "name": "stdout",
          "text": [
            "----------------------------------------\n",
            "USER : How are you doing?\n",
            "\n",
            "AGENT : I'm doing well, thank you for asking! It's great to be chatting with you today. How can I assist you with your laptop order or any other questions you may have?\n",
            "----------------------------------------\n",
            "USER : Please show me the details of the order ORD-7311\n",
            "\n",
            "AGENT : So, the order details for ORD-7311 are: you have ordered 2 units of NanoEdge Flex laptops, with a delivery date of October 19, 2024. Is there anything else I can help you with regarding this order?\n",
            "----------------------------------------\n",
            "USER : Can you add one more of that laptop to the order? \n",
            "\n",
            "AGENT : I've successfully updated your order. You now have a total of 3 units of NanoEdge Flex laptops in your order ORD-7311, with a delivery date of October 19, 2024. If you need any further assistance, feel free to ask!\n",
            "----------------------------------------\n",
            "USER : Can you show me the details again ? \n",
            "\n",
            "AGENT : Here are the updated order details: your order ORD-7311 consists of 3 units of NanoEdge Flex laptops, with a delivery date of October 19, 2024.\n",
            "----------------------------------------\n",
            "USER : What about order ORD-9999 ?\n",
            "\n",
            "AGENT : I apologize, but it seems that we don't have any information on an order with the ID ORD-9999. If you could provide more details or clarify which order you're looking for, I'd be happy to try and assist you further.\n",
            "----------------------------------------\n",
            "USER : Bye\n",
            "\n",
            "AGENT : It was a pleasure chatting with you! If you have any other questions or need assistance with your laptop orders in the future, don't hesitate to reach out. Have a great day!\n"
          ]
        }
      ],
      "source": [
        "import uuid\n",
        "#Send a sequence of messages to chatbot and get its response\n",
        "#This simulates the conversation between the user and the Agentic chatbot\n",
        "user_inputs = [\n",
        "    \"How are you doing?\",\n",
        "    \"Please show me the details of the order ORD-7311\",\n",
        "    \"Can you add one more of that laptop to the order? \",\n",
        "    \"Can you show me the details again ? \",\n",
        "    \"What about order ORD-9999 ?\",\n",
        "    \"Bye\"\n",
        "]\n",
        "\n",
        "#Create a new thread\n",
        "config = {\"configurable\": {\"thread_id\": str(uuid.uuid4())}}\n",
        "\n",
        "for input in user_inputs:\n",
        "    print(f\"----------------------------------------\\nUSER : {input}\")\n",
        "    #Format the user message\n",
        "    user_message = {\"messages\":[HumanMessage(input)]}\n",
        "    #Get response from the agent\n",
        "    ai_response = orders_agent.agent_graph.invoke(user_message,config=config)\n",
        "    #Print the response\n",
        "    print(f\"\\nAGENT : {ai_response['messages'][-1].content}\")"
      ]
    }
  ],
  "metadata": {
    "kernelspec": {
      "display_name": "Python 3",
      "language": "python",
      "name": "python3"
    },
    "language_info": {
      "codemirror_mode": {
        "name": "ipython",
        "version": 3
      },
      "file_extension": ".py",
      "mimetype": "text/x-python",
      "name": "python",
      "nbconvert_exporter": "python",
      "pygments_lexer": "ipython3",
      "version": "3.10.12"
    },
    "colab": {
      "provenance": []
    }
  },
  "nbformat": 4,
  "nbformat_minor": 5
}